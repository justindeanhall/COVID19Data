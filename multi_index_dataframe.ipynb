{
 "cells": [
  {
   "cell_type": "code",
   "execution_count": 1,
   "metadata": {},
   "outputs": [],
   "source": [
    "#import librarys\n",
    "\n",
    "import requests\n",
    "import pandas as pd\n",
    "from datetime import timedelta, date"
   ]
  },
  {
   "cell_type": "code",
   "execution_count": 2,
   "metadata": {},
   "outputs": [],
   "source": [
    "# Define daterange function\n",
    "\n",
    "def daterange(start_date, end_date):\n",
    "    \"\"\"Function to create a list of dates between the start and end date\"\"\"\n",
    "    for n in range(int ((end_date - start_date).days)):\n",
    "        current_day = start_date + timedelta(n)\n",
    "        formatted_date = current_day.strftime(\"%m-%d-%Y\")\n",
    "        yield formatted_date"
   ]
  },
  {
   "cell_type": "code",
   "execution_count": 3,
   "metadata": {
    "scrolled": false
   },
   "outputs": [
    {
     "name": "stdout",
     "output_type": "stream",
     "text": [
      "                          Country_Region  Confirmed  Deaths  People_Tested\n",
      "Province_State Date                                                       \n",
      "Alabama        04-12-2020             US       3563      93        21583.0\n",
      "               04-13-2020             US       3734      99        29182.0\n",
      "               04-14-2020             US       3953     114        33117.0\n",
      "               04-15-2020             US       4075     118        34077.0\n",
      "               04-16-2020             US       4345     133        36391.0\n",
      "...                                  ...        ...     ...            ...\n",
      "Wyoming        04-20-2020             US        317       2         7386.0\n",
      "               04-21-2020             US        443       2         7621.0\n",
      "               04-22-2020             US        447       6         7623.0\n",
      "               04-23-2020             US        453       7         7567.0\n",
      "               04-24-2020             US        473       7         8045.0\n",
      "\n",
      "[728 rows x 4 columns]\n"
     ]
    }
   ],
   "source": [
    "# Import and create dataset\n",
    "\n",
    "def pull_multi_index_dataframe(start_date, end_date):\n",
    "    \"\"\" Uses dateframe to create range of dates to concatenate all data to single multi-index dataframe\"\"\"\n",
    "    \n",
    "    # Pull US data for each day and concatenate into a single dataframe\n",
    "    df = pd.DataFrame()\n",
    "    for single_date in daterange(start_date, end_date):\n",
    "        date = single_date\n",
    "        url = 'https://raw.githubusercontent.com/CSSEGISandData/COVID-19/master/csse_covid_19_data/csse_covid_19_daily_reports_us/' + date + '.csv'\n",
    "        raw_data = pd.read_csv(url, error_bad_lines=False)\n",
    "        raw_data['Date'] = single_date\n",
    "        df = pd.concat([df, raw_data])\n",
    "\n",
    "    # Set multi-index for dataframe\n",
    "    df.set_index(['Province_State','Date'], inplace=True)\n",
    "    df.sort_index(inplace=True)\n",
    "\n",
    "    # Remove irrelavent rows\n",
    "    df.drop(index=[\"American Samoa\",\"Diamond Princess\",\"Recovered\"], level=0, inplace=True)\n",
    "    df.drop([\"Last_Update\", \"Lat\", \"Long_\", \"Recovered\", \"Active\", \"FIPS\", \"Incident_Rate\", \"People_Hospitalized\", \"Mortality_Rate\", \"UID\", \"ISO3\", \"Testing_Rate\", \"Hospitalization_Rate\"], axis=1, inplace=True)\n",
    "    df = df[df.Country_Region == 'US']\n",
    "    \n",
    "    return df\n",
    "\n",
    "# Run function\n",
    "start_date = date(2020, 4, 12)\n",
    "end_date = date(2020, 4, 23)\n",
    "today = date.today()\n",
    "day = timedelta(1)\n",
    "end_date = today - day\n",
    "data = pull_multi_index_dataframe(start_date, end_date)\n",
    "\n",
    "print(data)"
   ]
  },
  {
   "cell_type": "code",
   "execution_count": 4,
   "metadata": {},
   "outputs": [],
   "source": [
    "# Create new column with new tests\n",
    "def add_daily_confirmed(df):\n",
    "    \"\"\"Function that adds a 'Daily Confirmed' column to the inputted dataframe\"\"\"\n",
    "    previous = 0\n",
    "    for i, row in df.iterrows():\n",
    "        df.loc[i, 'Daily_Confirmed'] = row['Confirmed'] - previous\n",
    "        previous = row['Confirmed']\n",
    "    return df   \n",
    "\n",
    "data = add_daily_confirmed(data)"
   ]
  },
  {
   "cell_type": "code",
   "execution_count": 5,
   "metadata": {},
   "outputs": [],
   "source": [
    "# Create new column with 14 day average of new cases\n",
    "def fourteen_day_avg_new(df):\n",
    "    \"\"\"Add 'fourteen_day_avg' column\"\"\"\n",
    "    df['14d_average_new'] = df['Daily_Confirmed'].rolling(window=5).mean()\n",
    "    return df\n",
    "\n",
    "data = fourteen_day_avg_new(data)"
   ]
  },
  {
   "cell_type": "code",
   "execution_count": 6,
   "metadata": {},
   "outputs": [],
   "source": [
    "# Create new column with daily tests\n",
    "def add_daily_tests(df):\n",
    "    \"\"\"Function that adds a 'Daily Tests' column to the inputted dataframe\"\"\"\n",
    "    previous = 0\n",
    "    for i, row in df.iterrows():\n",
    "        df.loc[i, 'Daily_Tests'] = row['People_Tested'] - previous\n",
    "        previous = row['People_Tested']\n",
    "    return df   \n",
    "\n",
    "data = add_daily_tests(data)"
   ]
  },
  {
   "cell_type": "code",
   "execution_count": 7,
   "metadata": {},
   "outputs": [],
   "source": [
    "# Create new column defining positive tests as percent of total tests\n",
    "def add_daily_tests_pos_perc(df):\n",
    "    \"\"\"Function that adds a column to define positive tests as percent of total tests\"\"\"\n",
    "    for i, row in df.iterrows():\n",
    "        if row['Daily_Tests'] == 0:\n",
    "            pass\n",
    "        else:\n",
    "            df.loc[i, 'positive_test_percentage'] = row['Daily_Confirmed'] / row['Daily_Tests'] * 100\n",
    "    return df   \n",
    "\n",
    "data = add_daily_tests_pos_perc(data)"
   ]
  },
  {
   "cell_type": "code",
   "execution_count": 8,
   "metadata": {},
   "outputs": [],
   "source": [
    "# Determine 14 day average of perecent positive tests\n",
    "def fourteen_day_avg_pos_tests(df):\n",
    "    \"\"\"Add 'fourteen_day_avg' column\"\"\"\n",
    "    df['14d_positive_test_percentage'] = df['positive_test_percentage'].rolling(window=5).mean()\n",
    "    return df\n",
    "\n",
    "data = fourteen_day_avg_pos_tests(data)"
   ]
  },
  {
   "cell_type": "code",
   "execution_count": 9,
   "metadata": {},
   "outputs": [],
   "source": [
    "def percent_change_fourteen_day_avg_new(df):\n",
    "    previous = 0\n",
    "    for i, row in df.iterrows():\n",
    "        if previous == 0:\n",
    "            pass\n",
    "        else:\n",
    "            df.loc[i,\"percent_change_fourteen_day_avg_new\"] = ((row['14d_average_new'] - previous ) / previous) * 100\n",
    "        previous = row['14d_average_new']\n",
    "    return df\n",
    "\n",
    "data = percent_change_fourteen_day_avg_new(data)"
   ]
  },
  {
   "cell_type": "code",
   "execution_count": 10,
   "metadata": {},
   "outputs": [],
   "source": [
    "def percent_change_fourteen_day_avg_pos_tests(df):\n",
    "    previous = 0\n",
    "    for i, row in df.iterrows():\n",
    "        if previous == 0:\n",
    "            pass\n",
    "        else:\n",
    "            df.loc[i,\"percent_change_14d_positive_test_percentage\"] = ((row['14d_positive_test_percentage'] - previous ) / previous) * 100\n",
    "        previous = row['14d_positive_test_percentage']\n",
    "    return df\n",
    "\n",
    "data = percent_change_fourteen_day_avg_pos_tests(data)"
   ]
  },
  {
   "cell_type": "code",
   "execution_count": 11,
   "metadata": {
    "scrolled": true
   },
   "outputs": [],
   "source": [
    "data.to_excel(\"output.xlsx\")"
   ]
  },
  {
   "cell_type": "code",
   "execution_count": null,
   "metadata": {},
   "outputs": [],
   "source": []
  }
 ],
 "metadata": {
  "kernelspec": {
   "display_name": "Python 3",
   "language": "python",
   "name": "python3"
  },
  "language_info": {
   "codemirror_mode": {
    "name": "ipython",
    "version": 3
   },
   "file_extension": ".py",
   "mimetype": "text/x-python",
   "name": "python",
   "nbconvert_exporter": "python",
   "pygments_lexer": "ipython3",
   "version": "3.7.4"
  }
 },
 "nbformat": 4,
 "nbformat_minor": 2
}
