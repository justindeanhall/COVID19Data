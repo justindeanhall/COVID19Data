{
 "cells": [
  {
   "cell_type": "code",
   "execution_count": 1,
   "metadata": {
    "scrolled": false
   },
   "outputs": [],
   "source": [
    "#import librarys\n",
    "\n",
    "import requests\n",
    "import pandas as pd\n",
    "from datetime import timedelta, date\n",
    "import matplotlib.pyplot as plt\n",
    "import matplotlib.dates as mdates"
   ]
  },
  {
   "cell_type": "code",
   "execution_count": 2,
   "metadata": {
    "scrolled": false
   },
   "outputs": [],
   "source": [
    "def daterange(start_date, end_date):\n",
    "    \"\"\"Function to create a list of dates between the inputted start and end date\"\"\"\n",
    "    for n in range(int ((end_date - start_date).days)):\n",
    "        current_day = start_date + timedelta(n)\n",
    "        formatted_date = current_day.strftime(\"%m-%d-%Y\")\n",
    "        yield formatted_date"
   ]
  },
  {
   "cell_type": "code",
   "execution_count": 3,
   "metadata": {
    "scrolled": false
   },
   "outputs": [],
   "source": [
    "def request_data(start_date, end_date):\n",
    "    \"\"\"Function that requests US data and concatenates it into a single dataframe\"\"\"\n",
    "    df = pd.DataFrame()\n",
    "    for single_date in daterange(start_date, end_date):\n",
    "        date = single_date\n",
    "        url = 'https://raw.githubusercontent.com/CSSEGISandData/COVID-19/master/csse_covid_19_data/csse_covid_19_daily_reports_us/' + date + '.csv'\n",
    "        raw_data = pd.read_csv(url, usecols=['Province_State', 'Country_Region', 'Confirmed', 'Deaths', 'People_Tested'], error_bad_lines=False)\n",
    "        raw_data['Date'] = single_date\n",
    "        df = pd.concat([df, raw_data], ignore_index=True)\n",
    "    return df\n",
    "\n",
    "# Define inputs\n",
    "start_date = date(2020, 4, 12)\n",
    "today = date.today()\n",
    "one_day = timedelta(1)\n",
    "end_date = today - one_day\n",
    "\n",
    "# Run function\n",
    "data = request_data(start_date, end_date)"
   ]
  },
  {
   "cell_type": "code",
   "execution_count": 4,
   "metadata": {
    "scrolled": false
   },
   "outputs": [],
   "source": [
    " def clean_df(df):\n",
    "    \"\"\"Function that cleans the dataframe of unwanted data, drops outliers, and defines indexes\"\"\"\n",
    "    # Set multi-index for dataframe\n",
    "    df = df.rename(columns={'Province_State': 'State'})\n",
    "    # df['State'] = df['Province_State']\n",
    "    df.set_index(['State','Date'], inplace=True)\n",
    "    df.sort_index(inplace=True)\n",
    "\n",
    "    # Remove irrelavent rows\n",
    "    df.drop(index=[\"American Samoa\",\"Diamond Princess\",\"District of Columbia\",\"Grand Princess\",\"Guam\",\"Northern Mariana Islands\",\"Puerto Rico\",\"Virgin Islands\",\"Recovered\"], level=0, inplace=True)\n",
    "    df = df[df.Country_Region == 'US']\n",
    "    df.drop([\"Country_Region\"], axis=1, inplace=True)\n",
    "    return df\n",
    "    \n",
    "data = clean_df(data)"
   ]
  },
  {
   "cell_type": "code",
   "execution_count": 5,
   "metadata": {},
   "outputs": [],
   "source": [
    "def daily_confirmed(df):\n",
    "    \"\"\"Function that adds the number of daily cases confirmed\"\"\"\n",
    "    for state, state_data in df.groupby('State'):\n",
    "        previous = state_data['Confirmed'].shift(periods=1)\n",
    "        df.loc[state, 'Daily_Confirmed'] = state_data['Confirmed'] - previous\n",
    "    return df\n",
    "\n",
    "data = daily_confirmed(data)"
   ]
  },
  {
   "cell_type": "code",
   "execution_count": 6,
   "metadata": {
    "scrolled": false
   },
   "outputs": [],
   "source": [
    "def avg_daily_confirmed(df):\n",
    "    \"\"\"Function that adds the average of daily cases confirmed over a fixed period of time\"\"\"\n",
    "    for state, state_data in df.groupby('State'):\n",
    "        df.loc[state, 'Avg_Daily_Confirmed'] = state_data['Daily_Confirmed'].rolling(window=5).mean()\n",
    "    return df\n",
    "\n",
    "data = avg_daily_confirmed(data)"
   ]
  },
  {
   "cell_type": "code",
   "execution_count": 7,
   "metadata": {},
   "outputs": [],
   "source": [
    "def change_avg_daily_confirmed(df):\n",
    "    \"\"\"Function that adds the change of the daily positive test percentage\"\"\"\n",
    "    for state, state_data in df.groupby('State'):\n",
    "        previous = state_data['Avg_Daily_Confirmed'].shift(periods=1)\n",
    "        df.loc[state, \"Change_Avg_Daily_Confirmed\"] = (state_data['Avg_Daily_Confirmed'] - previous) / previous * 100\n",
    "    return df\n",
    "\n",
    "data = change_avg_daily_confirmed(data)"
   ]
  },
  {
   "cell_type": "code",
   "execution_count": 8,
   "metadata": {},
   "outputs": [],
   "source": [
    "def daily_tests(df):\n",
    "    \"\"\"Function that adds the number of daily tests Daily_Tests\"\"\"\n",
    "    for state, state_data in df.groupby('State'):\n",
    "        previous = state_data['People_Tested'].shift(periods=1)\n",
    "        df.loc[state, 'Daily_Tests'] = state_data['People_Tested'] - previous\n",
    "    return df\n",
    "\n",
    "data = daily_tests(data)"
   ]
  },
  {
   "cell_type": "code",
   "execution_count": 9,
   "metadata": {},
   "outputs": [],
   "source": [
    "def daily_tests_positive(df):\n",
    "    \"\"\"Function that adds the number of daily tests that are positive Daily_Tests_Positive\"\"\"\n",
    "    for state, state_data in df.groupby('State'):\n",
    "        df.loc[state, 'Daily_Tests_Positive'] = state_data['Daily_Confirmed'] / state_data['Daily_Tests'] * 100\n",
    "    return df\n",
    "\n",
    "data = daily_tests_positive(data)"
   ]
  },
  {
   "cell_type": "code",
   "execution_count": 10,
   "metadata": {},
   "outputs": [],
   "source": [
    "def avg_daily_tests_positive(df):\n",
    "    \"\"\"Function that adds the average number of positive tests over a fixed period of time\"\"\"\n",
    "    for state, state_data in df.groupby('State'):\n",
    "        df.loc[state, 'Avg_Daily_Tests_Positive'] = state_data['Daily_Tests_Positive'].rolling(window=5).mean()\n",
    "    return df\n",
    "\n",
    "data = avg_daily_tests_positive(data)"
   ]
  },
  {
   "cell_type": "code",
   "execution_count": 11,
   "metadata": {},
   "outputs": [],
   "source": [
    "def change_avg_daily_tests_positive(df):\n",
    "    \"\"\"Function that adds the change of the daily positive test percentage\"\"\"\n",
    "    for state, state_data in df.groupby('State'):\n",
    "        previous = state_data['Avg_Daily_Tests_Positive'].shift(periods=1)\n",
    "        df.loc[state, 'Change_Avg_Daily_Tests_Positive'] = (state_data['Avg_Daily_Tests_Positive'] - previous) / previous * 100\n",
    "    return df\n",
    "\n",
    "data = change_avg_daily_tests_positive(data)"
   ]
  },
  {
   "cell_type": "code",
   "execution_count": 12,
   "metadata": {
    "scrolled": true
   },
   "outputs": [],
   "source": [
    "def generate_excel_output(df):\n",
    "    \"\"\"Function that organizes the dataframe and exports the data to 'output' file\"\"\"\n",
    "    df = df[['Confirmed', 'Daily_Confirmed', 'Avg_Daily_Confirmed', 'Change_Avg_Daily_Confirmed', 'People_Tested', 'Daily_Tests', 'Daily_Tests_Positive', 'Avg_Daily_Tests_Positive', 'Change_Avg_Daily_Tests_Positive','Deaths']]\n",
    "    df.to_excel(\"output.xlsx\")\n",
    "\n",
    "generate_excel_output(data)"
   ]
  },
  {
   "cell_type": "code",
   "execution_count": 14,
   "metadata": {},
   "outputs": [
    {
     "name": "stdout",
     "output_type": "stream",
     "text": [
      "Date\n",
      "04-12-2020       NaN\n",
      "04-13-2020       NaN\n",
      "04-14-2020       NaN\n",
      "04-15-2020       NaN\n",
      "04-16-2020       NaN\n",
      "04-17-2020     954.8\n",
      "04-18-2020     833.8\n",
      "04-19-2020     794.6\n",
      "04-20-2020    1012.0\n",
      "04-21-2020     895.2\n",
      "04-22-2020    1132.0\n",
      "04-23-2020    1110.0\n",
      "04-24-2020    1194.8\n",
      "04-25-2020     953.6\n",
      "04-26-2020     981.8\n",
      "04-27-2020     705.6\n",
      "04-28-2020     642.4\n",
      "04-29-2020     566.2\n",
      "04-30-2020     623.4\n",
      "05-01-2020     699.0\n",
      "05-02-2020     658.0\n",
      "05-03-2020     595.0\n",
      "05-04-2020     641.2\n",
      "05-05-2020     584.2\n",
      "05-06-2020     446.2\n",
      "05-07-2020     499.4\n",
      "05-08-2020     624.8\n",
      "Name: Avg_Daily_Confirmed, dtype: float64\n"
     ]
    },
    {
     "data": {
      "image/png": "[encoded data removed]",
      "text/plain": [
       "<Figure size 1080x504 with 1 Axes>"
      ]
     },
     "metadata": {
      "needs_background": "light"
     },
     "output_type": "display_data"
    }
   ],
   "source": [
    "def line_plot_data_type(df, column, state = ' '):\n",
    "    '''Function that requests df, attribute, and state to be plotted on a line graph'''\n",
    "    #plot data\n",
    "    df = df.loc[state, column]\n",
    "    print(df)\n",
    "    fig, ax = plt.subplots(figsize=(15,7))\n",
    "    df.plot(ax=ax)\n",
    "\n",
    "    #set ticks every week\n",
    "    ax.xaxis.set_major_locator(mdates.WeekdayLocator())\n",
    "    #set major ticks format\n",
    "    ax.xaxis.set_major_formatter(mdates.DateFormatter('%b %d'))\n",
    "    \n",
    "line_plot_data_type(data, 'Avg_Daily_Confirmed', 'Connecticut')"
   ]
  },
  {
   "cell_type": "code",
   "execution_count": null,
   "metadata": {},
   "outputs": [],
   "source": []
  }
 ],
 "metadata": {
  "kernelspec": {
   "display_name": "Python 3",
   "language": "python",
   "name": "python3"
  },
  "language_info": {
   "codemirror_mode": {
    "name": "ipython",
    "version": 3
   },
   "file_extension": ".py",
   "mimetype": "text/x-python",
   "name": "python",
   "nbconvert_exporter": "python",
   "pygments_lexer": "ipython3",
   "version": "3.7.4"
  }
 },
 "nbformat": 4,
 "nbformat_minor": 2
}
