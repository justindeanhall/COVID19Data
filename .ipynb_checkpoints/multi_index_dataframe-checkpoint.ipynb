{
 "cells": [
  {
   "cell_type": "code",
   "execution_count": 1,
   "metadata": {
    "scrolled": false
   },
   "outputs": [],
   "source": [
    "#import librarys\n",
    "\n",
    "import requests\n",
    "import pandas as pd\n",
    "from datetime import timedelta, date"
   ]
  },
  {
   "cell_type": "code",
   "execution_count": 2,
   "metadata": {
    "scrolled": false
   },
   "outputs": [],
   "source": [
    "def daterange(start_date, end_date):\n",
    "    \"\"\"Function to create a list of dates between the inputted start and end date\"\"\"\n",
    "    for n in range(int ((end_date - start_date).days)):\n",
    "        current_day = start_date + timedelta(n)\n",
    "        formatted_date = current_day.strftime(\"%m-%d-%Y\")\n",
    "        yield formatted_date"
   ]
  },
  {
   "cell_type": "code",
   "execution_count": 3,
   "metadata": {
    "scrolled": false
   },
   "outputs": [],
   "source": [
    "def request_data(start_date, end_date):\n",
    "    \"\"\"Function that requests US data and concatenates it into a single dataframe\"\"\"\n",
    "    df = pd.DataFrame()\n",
    "    for single_date in daterange(start_date, end_date):\n",
    "        date = single_date\n",
    "        url = 'https://raw.githubusercontent.com/CSSEGISandData/COVID-19/master/csse_covid_19_data/csse_covid_19_daily_reports_us/' + date + '.csv'\n",
    "        raw_data = pd.read_csv(url, error_bad_lines=False)\n",
    "        raw_data['Date'] = single_date\n",
    "        df = pd.concat([df, raw_data])\n",
    "    return df\n",
    "\n",
    "# Define inputs\n",
    "start_date = date(2020, 4, 12)\n",
    "today = date.today()\n",
    "one_day = timedelta(1)\n",
    "end_date = today - one_day\n",
    "\n",
    "#Run function\n",
    "data = request_data(start_date, end_date)"
   ]
  },
  {
   "cell_type": "code",
   "execution_count": 4,
   "metadata": {
    "scrolled": false
   },
   "outputs": [
    {
     "name": "stderr",
     "output_type": "stream",
     "text": [
      "c:\\users\\justi\\appdata\\local\\programs\\python\\python37\\lib\\site-packages\\pandas\\core\\frame.py:3997: SettingWithCopyWarning: \n",
      "A value is trying to be set on a copy of a slice from a DataFrame\n",
      "\n",
      "See the caveats in the documentation: https://pandas.pydata.org/pandas-docs/stable/user_guide/indexing.html#returning-a-view-versus-a-copy\n",
      "  errors=errors,\n"
     ]
    }
   ],
   "source": [
    " def clean_df(df):\n",
    "    \"\"\"Function that cleans the dataframe of unwanted data, drops outliers, and defines indexes\"\"\"\n",
    "    # Set multi-index for dataframe\n",
    "    df['State'] = df['Province_State']\n",
    "    df.set_index(['State','Date'], inplace=True)\n",
    "    df.sort_index(inplace=True)\n",
    "\n",
    "    # Remove irrelavent rows\n",
    "    df.drop(index=[\"American Samoa\",\"Diamond Princess\",\"Recovered\",\"Guam\"], level=0, inplace=True)\n",
    "    df = df[df.Country_Region == 'US']\n",
    "    df.drop([\"Province_State\",\"Country_Region\",\"Last_Update\", \"Lat\", \"Long_\", \"Recovered\", \"Active\", \"FIPS\", \"Incident_Rate\", \"People_Hospitalized\", \"Mortality_Rate\", \"UID\", \"ISO3\", \"Testing_Rate\", \"Hospitalization_Rate\"], axis=1, inplace=True)\n",
    "    return df\n",
    "    \n",
    "data = clean_df(data)"
   ]
  },
  {
   "cell_type": "code",
   "execution_count": 5,
   "metadata": {
    "scrolled": false
   },
   "outputs": [],
   "source": [
    "def daily_confirmed(df):\n",
    "    \"\"\"Function that adds the number of daily cases confirmed\"\"\"\n",
    "    previous = 0\n",
    "    for i, row in df.iterrows():\n",
    "        df.loc[i, 'Daily_Confirmed'] = row['Confirmed'] - previous\n",
    "        previous = row['Confirmed']\n",
    "    return df   \n",
    "\n",
    "data = daily_confirmed(data)"
   ]
  },
  {
   "cell_type": "code",
   "execution_count": 6,
   "metadata": {
    "scrolled": false
   },
   "outputs": [],
   "source": [
    "def avg_daily_confirmed(df):\n",
    "    \"\"\"Function that adds the average of daily cases confirmed over a fixed period of time\"\"\"\n",
    "    df['Avg_Daily_Confirmed'] = df['Daily_Confirmed'].rolling(window=5).mean()\n",
    "    return df\n",
    "\n",
    "data = avg_daily_confirmed(data)"
   ]
  },
  {
   "cell_type": "code",
   "execution_count": 7,
   "metadata": {
    "scrolled": false
   },
   "outputs": [],
   "source": [
    "def change_avg_daily_confirmed(df):\n",
    "    \"\"\"Function that adds the change of the daily confirmed cases\"\"\"\n",
    "    previous = 0\n",
    "    for i, row in df.iterrows():\n",
    "        if previous == 0:\n",
    "            pass\n",
    "        else:\n",
    "            df.loc[i,\"Change_Avg_Daily_Confirmed\"] = ((row['Avg_Daily_Confirmed'] - previous ) / previous) * 100\n",
    "        previous = row['Avg_Daily_Confirmed']\n",
    "    return df\n",
    "\n",
    "data = change_avg_daily_confirmed(data)"
   ]
  },
  {
   "cell_type": "code",
   "execution_count": 8,
   "metadata": {
    "scrolled": false
   },
   "outputs": [],
   "source": [
    "def daily_tests(df):\n",
    "    \"\"\"Function that adds the number of daily tests\"\"\"\n",
    "    previous = 0\n",
    "    for i, row in df.iterrows():\n",
    "        df.loc[i, 'Daily_Tests'] = row['People_Tested'] - previous\n",
    "        previous = row['People_Tested']\n",
    "    return df   \n",
    "\n",
    "data = daily_tests(data)"
   ]
  },
  {
   "cell_type": "code",
   "execution_count": 9,
   "metadata": {
    "scrolled": false
   },
   "outputs": [],
   "source": [
    "def daily_tests_positive(df):\n",
    "    \"\"\"Function that adds the number of daily positive tests\"\"\"\n",
    "    for i, row in df.iterrows():\n",
    "        if row['Daily_Tests'] == 0:\n",
    "            pass\n",
    "        else:\n",
    "            df.loc[i, 'Daily_Tests_Positive'] = row['Daily_Confirmed'] / row['Daily_Tests'] * 100\n",
    "    return df   \n",
    "\n",
    "data = daily_tests_positive(data)"
   ]
  },
  {
   "cell_type": "code",
   "execution_count": 10,
   "metadata": {
    "scrolled": false
   },
   "outputs": [],
   "source": [
    "# Determine 14 day average of perecent positive tests\n",
    "def avg_daily_tests_positive(df):\n",
    "    \"\"\"Function that adds the average number of positive tests over a fixed period of time\"\"\"\n",
    "    df['Avg_Daily_Tests_Positive'] = df['Daily_Tests_Positive'].rolling(window=5).mean()\n",
    "    return df\n",
    "\n",
    "data = avg_daily_tests_positive(data)"
   ]
  },
  {
   "cell_type": "code",
   "execution_count": 11,
   "metadata": {
    "scrolled": false
   },
   "outputs": [],
   "source": [
    "def change_avg_daily_tests_positive(df):\n",
    "    \"\"\"Function that adds the change of the daily positive test percentage\"\"\"\n",
    "    previous = 0\n",
    "    for i, row in df.iterrows():\n",
    "        if previous == 0:\n",
    "            pass\n",
    "        else:\n",
    "            df.loc[i,\"Change_Avg_Daily_Tests_Positive\"] = ((row['Avg_Daily_Tests_Positive'] - previous ) / previous) * 100\n",
    "        previous = row['Avg_Daily_Tests_Positive']\n",
    "    return df\n",
    "\n",
    "data = change_avg_daily_tests_positive(data)"
   ]
  },
  {
   "cell_type": "code",
   "execution_count": 12,
   "metadata": {
    "scrolled": true
   },
   "outputs": [],
   "source": [
    "def generate_excel_output(df):\n",
    "    \"\"\"Function that organizes the dataframe and exports the data to 'output' file\"\"\"\n",
    "    df = df[['Confirmed', 'Daily_Confirmed', 'Avg_Daily_Confirmed', 'Change_Avg_Daily_Confirmed', 'Daily_Tests', 'Daily_Tests_Positive', 'Avg_Daily_Tests_Positive', 'Change_Avg_Daily_Tests_Positive','Deaths']]\n",
    "    df.to_excel(\"output.xlsx\")\n",
    "\n",
    "generate_excel_output(data)"
   ]
  }
 ],
 "metadata": {
  "kernelspec": {
   "display_name": "Python 3",
   "language": "python",
   "name": "python3"
  },
  "language_info": {
   "codemirror_mode": {
    "name": "ipython",
    "version": 3
   },
   "file_extension": ".py",
   "mimetype": "text/x-python",
   "name": "python",
   "nbconvert_exporter": "python",
   "pygments_lexer": "ipython3",
   "version": "3.7.4"
  }
 },
 "nbformat": 4,
 "nbformat_minor": 2
}
