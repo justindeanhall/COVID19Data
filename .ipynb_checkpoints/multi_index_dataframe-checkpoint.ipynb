{
 "cells": [
  {
   "cell_type": "code",
   "execution_count": 1,
   "metadata": {
    "scrolled": false
   },
   "outputs": [],
   "source": [
    "#import librarys\n",
    "\n",
    "import requests\n",
    "import pandas as pd\n",
    "from datetime import timedelta, date\n",
    "import matplotlib.pyplot as plt\n",
    "import matplotlib.dates as mdates"
   ]
  },
  {
   "cell_type": "code",
   "execution_count": 2,
   "metadata": {
    "scrolled": false
   },
   "outputs": [],
   "source": [
    "def daterange(start_date, end_date):\n",
    "    '''Function to create a list of dates between the inputted start and end date'''\n",
    "    for n in range(int ((end_date - start_date).days)):\n",
    "        current_day = start_date + timedelta(n)\n",
    "        formatted_date = current_day.strftime('%m-%d-%Y')\n",
    "        yield formatted_date"
   ]
  },
  {
   "cell_type": "code",
   "execution_count": 3,
   "metadata": {
    "scrolled": false
   },
   "outputs": [],
   "source": [
    "def request_data(start_date, end_date):\n",
    "    '''Function that requests US data and concatenates it into a single dataframe'''\n",
    "    df = pd.DataFrame()\n",
    "    for single_date in daterange(start_date, end_date):\n",
    "        date = single_date\n",
    "        url = 'https://raw.githubusercontent.com/CSSEGISandData/COVID-19/master/csse_covid_19_data/csse_covid_19_daily_reports_us/' + date + '.csv'\n",
    "        raw_data = pd.read_csv(url, error_bad_lines=False)\n",
    "        raw_data['Date'] = single_date\n",
    "        df = pd.concat([df, raw_data])\n",
    "    return df\n",
    "\n",
    "# Define inputs\n",
    "start_date = date(2020, 4, 12)\n",
    "today = date.today()\n",
    "one_day = timedelta(1)\n",
    "end_date = today - one_day\n",
    "\n",
    "#Run function\n",
    "data = request_data(start_date, end_date)"
   ]
  },
  {
   "cell_type": "code",
   "execution_count": 4,
   "metadata": {
    "scrolled": false
   },
   "outputs": [],
   "source": [
    " def clean_df(df):\n",
    "    '''Function that cleans the dataframe of unwanted data, drops outliers, and defines indexes'''\n",
    "    df = df.rename(columns={'Province_State': 'State'})\n",
    "    df.set_index(['State','Date'], inplace=True)\n",
    "    df.sort_index(inplace=True)\n",
    "    # Remove irrelavent rows\n",
    "    df.drop(index=['American Samoa','Diamond Princess','Recovered','Guam'], level=0, inplace=True)\n",
    "    df = df[df.Country_Region == 'US']\n",
    "    df.drop(['Country_Region','Last_Update', 'Lat', 'Long_', 'Recovered', 'Active', 'FIPS', 'Incident_Rate', 'People_Hospitalized', 'Mortality_Rate', 'UID', 'ISO3', 'Testing_Rate', 'Hospitalization_Rate'], axis=1, inplace=True)\n",
    "    return df\n",
    "    \n",
    "data = clean_df(data)"
   ]
  },
  {
   "cell_type": "code",
   "execution_count": 5,
   "metadata": {
    "scrolled": false
   },
   "outputs": [],
   "source": [
    "def daily_confirmed(df):\n",
    "    '''Function that adds the number of daily cases confirmed'''\n",
    "    previous = 0\n",
    "    for i, row in df.iterrows():\n",
    "        df.loc[i, 'Daily_Confirmed'] = row['Confirmed'] - previous\n",
    "        previous = row['Confirmed']\n",
    "    return df   \n",
    "\n",
    "data = daily_confirmed(data)"
   ]
  },
  {
   "cell_type": "code",
   "execution_count": 6,
   "metadata": {
    "scrolled": false
   },
   "outputs": [],
   "source": [
    "def avg_daily_confirmed(df):\n",
    "    '''Function that adds the average of daily cases confirmed over a fixed period of time'''\n",
    "    df['Avg_Daily_Confirmed'] = df['Daily_Confirmed'].rolling(window=5).mean()\n",
    "    return df\n",
    "\n",
    "data = avg_daily_confirmed(data)"
   ]
  },
  {
   "cell_type": "code",
   "execution_count": 7,
   "metadata": {
    "scrolled": false
   },
   "outputs": [],
   "source": [
    "def change_avg_daily_confirmed(df):\n",
    "    '''Function that adds the change of the daily confirmed cases'''\n",
    "    previous = 0\n",
    "    for i, row in df.iterrows():\n",
    "        if previous == 0:\n",
    "            pass\n",
    "        else:\n",
    "            df.loc[i,'Change_Avg_Daily_Confirmed'] = ((row['Avg_Daily_Confirmed'] - previous ) / previous) * 100\n",
    "        previous = row['Avg_Daily_Confirmed']\n",
    "    return df\n",
    "\n",
    "data = change_avg_daily_confirmed(data)"
   ]
  },
  {
   "cell_type": "code",
   "execution_count": 8,
   "metadata": {
    "scrolled": false
   },
   "outputs": [],
   "source": [
    "def daily_tests(df):\n",
    "    '''Function that adds the number of daily tests'''\n",
    "    previous = 0\n",
    "    for i, row in df.iterrows():\n",
    "        df.loc[i, 'Daily_Tests'] = row['People_Tested'] - previous\n",
    "        previous = row['People_Tested']\n",
    "    return df   \n",
    "\n",
    "data = daily_tests(data)"
   ]
  },
  {
   "cell_type": "code",
   "execution_count": 9,
   "metadata": {
    "scrolled": false
   },
   "outputs": [],
   "source": [
    "def daily_tests_positive(df):\n",
    "    '''Function that adds the number of daily positive tests'''\n",
    "    for i, row in df.iterrows():\n",
    "        if row['Daily_Tests'] == 0:\n",
    "            pass\n",
    "        else:\n",
    "            df.loc[i, 'Daily_Tests_Positive'] = row['Daily_Confirmed'] / row['Daily_Tests'] * 100\n",
    "    return df   \n",
    "\n",
    "data = daily_tests_positive(data)"
   ]
  },
  {
   "cell_type": "code",
   "execution_count": 10,
   "metadata": {
    "scrolled": false
   },
   "outputs": [],
   "source": [
    "# Determine 14 day average of perecent positive tests\n",
    "def avg_daily_tests_positive(df):\n",
    "    '''Function that adds the average number of positive tests over a fixed period of time'''\n",
    "    df['Avg_Daily_Tests_Positive'] = df['Daily_Tests_Positive'].rolling(window=5).mean()\n",
    "    return df\n",
    "\n",
    "data = avg_daily_tests_positive(data)"
   ]
  },
  {
   "cell_type": "code",
   "execution_count": 11,
   "metadata": {
    "scrolled": false
   },
   "outputs": [],
   "source": [
    "def change_avg_daily_tests_positive(df):\n",
    "    '''Function that adds the change of the daily positive test percentage'''\n",
    "    previous = 0\n",
    "    for i, row in df.iterrows():\n",
    "        if previous == 0:\n",
    "            pass\n",
    "        else:\n",
    "            df.loc[i,'Change_Avg_Daily_Tests_Positive'] = ((row['Avg_Daily_Tests_Positive'] - previous ) / previous) * 100\n",
    "        previous = row['Avg_Daily_Tests_Positive']\n",
    "    return df\n",
    "\n",
    "data = change_avg_daily_tests_positive(data)"
   ]
  },
  {
   "cell_type": "code",
   "execution_count": 12,
   "metadata": {
    "scrolled": true
   },
   "outputs": [],
   "source": [
    "def generate_excel_output(df):\n",
    "    '''Function that organizes the dataframe and exports the data to 'output' file'''\n",
    "    df = df[['Confirmed', 'Daily_Confirmed', 'Avg_Daily_Confirmed', 'Change_Avg_Daily_Confirmed', 'Daily_Tests', 'Daily_Tests_Positive', 'Avg_Daily_Tests_Positive', 'Change_Avg_Daily_Tests_Positive','Deaths']]\n",
    "    df.to_excel('output.xlsx')\n",
    "\n",
    "generate_excel_output(data)"
   ]
  },
  {
   "cell_type": "code",
   "execution_count": 13,
   "metadata": {},
   "outputs": [
    {
     "name": "stdout",
     "output_type": "stream",
     "text": [
      "Date\n",
      "04-12-2020    37330.8\n",
      "04-13-2020    38645.6\n",
      "04-14-2020    40072.0\n",
      "04-15-2020    42345.6\n",
      "04-16-2020    44173.2\n",
      "04-17-2020     8312.8\n",
      "04-18-2020     9192.6\n",
      "04-19-2020     8959.0\n",
      "04-20-2020     7721.2\n",
      "04-21-2020     6934.0\n",
      "04-22-2020     6539.0\n",
      "04-23-2020     4349.6\n",
      "04-24-2020     4755.0\n",
      "04-25-2020     5816.6\n",
      "04-26-2020     5936.8\n",
      "04-27-2020     5740.8\n",
      "Name: Avg_Daily_Confirmed, dtype: float64\n"
     ]
    },
    {
     "data": {
      "image/png": "[encoded data removed]",
      "text/plain": [
       "<Figure size 1080x504 with 1 Axes>"
      ]
     },
     "metadata": {
      "needs_background": "light"
     },
     "output_type": "display_data"
    }
   ],
   "source": [
    "def line_plot_data_type(df, column, state = ' '):\n",
    "    '''Function that requests df, attribute, and state to be plotted on a line graph'''\n",
    "    #plot data\n",
    "    df = df.loc[state, column]\n",
    "    print(df)\n",
    "    fig, ax = plt.subplots(figsize=(15,7))\n",
    "    df.plot(ax=ax)\n",
    "\n",
    "    #set ticks every week\n",
    "    ax.xaxis.set_major_locator(mdates.WeekdayLocator())\n",
    "    #set major ticks format\n",
    "    ax.xaxis.set_major_formatter(mdates.DateFormatter('%b %d'))\n",
    "    \n",
    "line_plot_data_type(data, 'Avg_Daily_Confirmed', 'New York')"
   ]
  }
 ],
 "metadata": {
  "kernelspec": {
   "display_name": "Python 3",
   "language": "python",
   "name": "python3"
  },
  "language_info": {
   "codemirror_mode": {
    "name": "ipython",
    "version": 3
   },
   "file_extension": ".py",
   "mimetype": "text/x-python",
   "name": "python",
   "nbconvert_exporter": "python",
   "pygments_lexer": "ipython3",
   "version": "3.7.4"
  }
 },
 "nbformat": 4,
 "nbformat_minor": 2
}
